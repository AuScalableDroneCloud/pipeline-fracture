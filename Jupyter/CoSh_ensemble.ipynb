{
 "cells": [
  {
   "cell_type": "markdown",
   "id": "b0943673",
   "metadata": {},
   "source": [
    "## Fracture detection with Complex Shearlet Transform (adpted from https://github.com/rahulprabhakaran/Automatic-Fracture-Detection-Code)\n",
    "## Using the Python port of the Matlab Toolbox Complex Shearlet-Based Ridge and Edge Measurement by Rafael Reisenhofer: https://github.com/rgcda/PyCoShREM"
   ]
  },
  {
   "cell_type": "code",
   "execution_count": null,
   "id": "85f56021",
   "metadata": {},
   "outputs": [],
   "source": [
    "import sys\n",
    "import cv2\n",
    "import easygui\n",
    "sys.path.append('py_modules')\n",
    "import ipywidgets as widgets\n",
    "from IPython.display import display\n",
    "from matplotlib import pyplot as plt\n",
    "from processing import ReadImage, SplitInput, GenerateSystems, ImgSizes, DetectFeatures, CheckDetectionParams, WriteImage\n",
    "%matplotlib inline"
   ]
  },
  {
   "cell_type": "markdown",
   "id": "557b9802",
   "metadata": {},
   "source": [
    "## Select Image and load it"
   ]
  },
  {
   "cell_type": "code",
   "execution_count": null,
   "id": "f719abc6",
   "metadata": {},
   "outputs": [],
   "source": [
    "img_list = []\n",
    "filenames  = easygui.fileopenbox(\"select image file(s)\", \"CoSh_ensemble\", filetypes= \"*.jpg\", multiple=True)\n",
    "for f in filenames:\n",
    "    img_list.append(ReadImage(f))\n",
    "print('selected', len(img_list), ' images')"
   ]
  },
  {
   "cell_type": "code",
   "execution_count": null,
   "id": "4d73c95d",
   "metadata": {},
   "outputs": [],
   "source": [
    "style = {'description_width': 'initial'}\n",
    "waveletEffSupp = widgets.Text(value='25,50,150',placeholder='25,50,150',description='waveletEffSupp:',style=style, disabled=False)\n",
    "gaussianEffSupp = widgets.Text(value='12,25,75',placeholder='12,25,75',description='gaussianEffSupp:',style=style, disabled=False)\n",
    "scalesPerOctave = widgets.Text(value='2',placeholder='2',description='scalesPerOctave:',style=style, disabled=False)\n",
    "shearLevel = widgets.Text(value='3',placeholder='3',description='shearLevel:',style=style, disabled=False)\n",
    "alpha = widgets.Text(value='1',placeholder='1',description='alpha:',style=style, disabled=False)\n",
    "octaves = widgets.Text(value='3.5',placeholder='3.5',description='octaves:',style=style, disabled=False)\n",
    "ridges = widgets.Checkbox(True, description='Ridges')"
   ]
  },
  {
   "cell_type": "markdown",
   "id": "357c2e4d",
   "metadata": {},
   "source": [
    "## Define shearlet parameter combination (comma delimintered)"
   ]
  },
  {
   "cell_type": "code",
   "execution_count": null,
   "id": "d9a877ef",
   "metadata": {},
   "outputs": [],
   "source": [
    "display(waveletEffSupp)\n",
    "display(gaussianEffSupp)\n",
    "display(scalesPerOctave)\n",
    "display(shearLevel)\n",
    "display(alpha)\n",
    "display(octaves)\n",
    "display(ridges)"
   ]
  },
  {
   "cell_type": "code",
   "execution_count": null,
   "id": "38527a47",
   "metadata": {},
   "outputs": [],
   "source": [
    "wavelet_eff_supp  = SplitInput(waveletEffSupp.value, False)\n",
    "gaussian_eff_supp = SplitInput(gaussianEffSupp.value, False)\n",
    "scales_per_octave = SplitInput(scalesPerOctave.value, True)\n",
    "shear_level = SplitInput(shearLevel.value, True)\n",
    "ALPHA = SplitInput(alpha.value, False)\n",
    "OCTAVES = SplitInput(octaves.value, False)\n",
    "EDGE = False\n",
    "i_size = ImgSizes(img_list)\n",
    "systems = GenerateSystems(i_size, wavelet_eff_supp, gaussian_eff_supp, scales_per_octave, shear_level, ALPHA, OCTAVES, ridges.value)"
   ]
  },
  {
   "cell_type": "markdown",
   "id": "04613a53",
   "metadata": {},
   "source": [
    "## Detection Parameters"
   ]
  },
  {
   "cell_type": "code",
   "execution_count": null,
   "id": "658f62c6",
   "metadata": {},
   "outputs": [],
   "source": [
    "style = {'description_width': 'initial'}\n",
    "min_contrast = widgets.Text(value='5,10,25,50',placeholder='5,10,25,50',description='minContrast:',style=style, disabled=False)\n",
    "offset = widgets.Text(value='1',placeholder='1,1.5',description='offset:',style=style, disabled=False)\n",
    "pivoting_scales = widgets.Dropdown(description='scalesUsedForPivotSearch',style=style, options=['all', 'highest', 'lowest'], value='all', layout=widgets.Layout(width='50%'))\n",
    "negative = widgets.Checkbox(True, description='negative')\n",
    "positive = widgets.Checkbox(False, description='positive')"
   ]
  },
  {
   "cell_type": "code",
   "execution_count": null,
   "id": "dc35a673",
   "metadata": {},
   "outputs": [],
   "source": [
    "display(min_contrast)\n",
    "display(offset)\n",
    "display(pivoting_scales)\n",
    "if ridges.value:\n",
    "    display(negative)\n",
    "    display(positive)"
   ]
  },
  {
   "cell_type": "code",
   "execution_count": null,
   "id": "039f00f5",
   "metadata": {},
   "outputs": [],
   "source": [
    "min_contrast = SplitInput(min_contrast.value, False)\n",
    "offset = SplitInput(offset.value, False)\n",
    "pivoting_scales = pivoting_scales.value\n",
    "offset = CheckDetectionParams(offset)"
   ]
  },
  {
   "cell_type": "markdown",
   "id": "b88d4c35",
   "metadata": {},
   "source": [
    "## Detect features in images"
   ]
  },
  {
   "cell_type": "code",
   "execution_count": null,
   "id": "9a3bba79",
   "metadata": {},
   "outputs": [],
   "source": [
    "features = DetectFeatures(img_list, systems, min_contrast, offset, pivoting_scales, negative.value, positive.value, ridges.value, i_size )"
   ]
  },
  {
   "cell_type": "markdown",
   "id": "1750941c",
   "metadata": {},
   "source": [
    "## Display and write image"
   ]
  },
  {
   "cell_type": "code",
   "execution_count": null,
   "id": "705744a5",
   "metadata": {},
   "outputs": [],
   "source": [
    "for i, img in enumerate(img_list):\n",
    "    f, ax1 = plt.subplots(nrows=1,figsize=(25,25))\n",
    "    overlay = cv2.addWeighted(img[0],0.001, features[i] ,0.99,0, dtype=cv2.CV_64F)       \n",
    "    ax1.imshow(overlay, cmap=\"gray\"); \n",
    "    ax1.get_xaxis().set_visible(False)\n",
    "    ax1.axes.get_yaxis().set_visible(False)\n",
    "    WriteImage(img_list, features, \"test\")\n",
    "    input(\"Next image. (press key)\")"
   ]
  },
  {
   "cell_type": "code",
   "execution_count": null,
   "id": "54e851e0",
   "metadata": {},
   "outputs": [],
   "source": []
  }
 ],
 "metadata": {
  "kernelspec": {
   "display_name": "Python 3 (ipykernel)",
   "language": "python",
   "name": "python3"
  },
  "language_info": {
   "codemirror_mode": {
    "name": "ipython",
    "version": 3
   },
   "file_extension": ".py",
   "mimetype": "text/x-python",
   "name": "python",
   "nbconvert_exporter": "python",
   "pygments_lexer": "ipython3",
   "version": "3.9.7"
  }
 },
 "nbformat": 4,
 "nbformat_minor": 5
}
