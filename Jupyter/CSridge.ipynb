{
 "cells": [
  {
   "cell_type": "markdown",
   "id": "8f9913ef",
   "metadata": {},
   "source": [
    "# Ridge detection with Complex Shearlets Transform"
   ]
  },
  {
   "cell_type": "code",
   "execution_count": 33,
   "id": "cd02a7d8",
   "metadata": {},
   "outputs": [],
   "source": [
    "import os\n",
    "import cv2\n",
    "import math\n",
    "import numpy as np\n",
    "from osgeo import gdal\n",
    "import ipywidgets as widgets\n",
    "from IPython.display import display\n",
    "from matplotlib import pyplot as plt\n",
    "%matplotlib inline\n",
    "from coshrem.shearletsystem import RidgeSystem\n",
    "%matplotlib inline"
   ]
  },
  {
   "cell_type": "markdown",
   "id": "f4c18398",
   "metadata": {},
   "source": [
    "## read reoreferencing information if availabe"
   ]
  },
  {
   "cell_type": "code",
   "execution_count": 34,
   "id": "995aebd5",
   "metadata": {},
   "outputs": [
    {
     "name": "stdout",
     "output_type": "stream",
     "text": [
      "Driver: GTiff/GeoTIFF\n",
      "Size is 368 x 339 x 3\n"
     ]
    }
   ],
   "source": [
    "georef = False\n",
    "filename = 'img/TEST.tif'\n",
    "#filename = 'img/gawler_dem.tif'\n",
    "#filename = 'img/Ortho_3_061.png'\n",
    "outfile = 'Test_cs_ref.tif'\n",
    "\n",
    "dataset = gdal.Open(filename, gdal.GA_ReadOnly)\n",
    "if dataset:\n",
    "    print(\"Driver: {}/{}\".format(dataset.GetDriver().ShortName,\n",
    "                                dataset.GetDriver().LongName))\n",
    "    print(\"Size is {} x {} x {}\".format(dataset.RasterXSize,\n",
    "                                        dataset.RasterYSize,\n",
    "                                        dataset.RasterCount))\n",
    "    if dataset.GetProjection():\n",
    "        print(\"Projection is: {}\".format(dataset.GetProjection()))\n",
    "        geotransform = dataset.GetGeoTransform()\n",
    "        georef = True\n",
    "        if geotransform:\n",
    "            print(\"Geotransform:\" ,geotransform)\n",
    "            print(\"Origin = ({}, {})\".format(geotransform[0], geotransform[3]))\n",
    "            print(\"Pixel Size = ({}, {})\".format(geotransform[1], geotransform[5]))\n",
    "            \n",
    "            gray = np.array(dataset.GetRasterBand(1).ReadAsArray())\n",
    "    else:\n",
    "        image = cv2.imread(filename)    \n",
    "        gray  = cv2.cvtColor(image, cv2.COLOR_RGB2GRAY)\n",
    "    \n",
    "MASTER = np.zeros(gray.shape, np.double)\n",
    "p = gray.shape"
   ]
  },
  {
   "cell_type": "code",
   "execution_count": 35,
   "id": "ba9f08b6",
   "metadata": {},
   "outputs": [
    {
     "data": {
      "application/vnd.jupyter.widget-view+json": {
       "model_id": "9dbe3e0aac5348399dd2245a964625ca",
       "version_major": 2,
       "version_minor": 0
      },
      "text/plain": [
       "Output()"
      ]
     },
     "metadata": {},
     "output_type": "display_data"
    },
    {
     "data": {
      "application/vnd.jupyter.widget-view+json": {
       "model_id": "670c4f21e8644322b9bae77897c88f42",
       "version_major": 2,
       "version_minor": 0
      },
      "text/plain": [
       "interactive(children=(IntSlider(value=60, continuous_update=False, description='wavelet_eff_supp', max=1000, m…"
      ]
     },
     "metadata": {},
     "output_type": "display_data"
    }
   ],
   "source": [
    "with open('img/CS6l6tB.gif', 'rb') as f:\n",
    "    img = f.read()\n",
    "loading_bar = widgets.Image(value=img)\n",
    "out = widgets.Output()\n",
    "display(out)\n",
    "def CSridges(p, wavelet_eff_supp = 60, scales_per_octave = 4, shear_level = 3, alpha = 0.2, octaves = 3.5,\n",
    "                          min_contrast = 10, offset = 1, positive = True, negative = False):\n",
    "    \n",
    "    sys = RidgeSystem(*p,\n",
    "                wavelet_eff_supp = wavelet_eff_supp,\n",
    "                gaussian_eff_supp = math.ceil( (math.ceil(p[0]/wavelet_eff_supp) /2)),\n",
    "                scales_per_octave = scales_per_octave,\n",
    "                #shear_level = shear_level,\n",
    "                #alpha = alpha,\n",
    "                #octaves = octaves)\n",
    "                     )\n",
    "    features, orientations = sys.detect(gray, \n",
    "                                    min_contrast = min_contrast,  \n",
    "                                   # offset = offset, \n",
    "                                    #pivoting_scales= pivot_scale,\n",
    "                                    positive_only = positive, \n",
    "                                    negative_only = negative)\n",
    "    return(features)\n",
    "\n",
    "def InteracRidges(wavelet_eff_supp = 60, scales_per_octave = 4, shear_level = 3, alpha = 0.2, octaves = 3.5,\n",
    "                  min_contrast = 10, offset = 1, positive = True, negative = False): \n",
    "    \n",
    "    f, ax1 = plt.subplots(nrows=1,figsize=(25,25))\n",
    "    with out:\n",
    "        display(loading_bar)\n",
    "        ridges = CSridges(p, wavelet_eff_supp = wavelet_eff_supp, scales_per_octave = scales_per_octave, shear_level = shear_level, alpha = alpha,\n",
    "                     min_contrast = min_contrast, offset = offset, positive = positive, negative = negative)\n",
    "        out.clear_output()\n",
    "    ax1.imshow(ridges); \n",
    "    ax1.get_xaxis().set_visible(False)\n",
    "    ax1.axes.get_yaxis().set_visible(False)\n",
    "    x1, x2 = ridges.shape[:2] \n",
    "    MASTER[:x1, :x2] = ridges[:x1, :x2]\n",
    "    Msum = np.sum(MASTER)\n",
    "    has_nan = np.isnan(Msum)\n",
    "    if (has_nan):\n",
    "        print(\"NaN in array, Check parameter combination.\")\n",
    "\n",
    "widgets.interactive(InteracRidges, wavelet_eff_supp = widgets.IntSlider(value=60 ,min=1, max=1000, step=1,continuous_update=False),\n",
    "                                       scales_per_octave = widgets.IntSlider(value=4, min=1, max=100, step=1,continuous_update=False),\n",
    "                                       shear_level = widgets.IntSlider(value=3, min=1, max=10, step=1,continuous_update=False), \n",
    "                                       alpha = widgets.FloatSlider(value=0.2, min=1, max=10, step=0.1,continuous_update=False), \n",
    "                                       octaves = widgets.FloatSlider(value=3.5, min=1, max=10, step=0.1,continuous_update=False),\n",
    "                                       min_contrast = widgets.IntSlider(value=10, min=1, max=100, step=1,continuous_update=False),  \n",
    "                                       offset = widgets.FloatSlider(value=1, min=1, max=100, step=0.1,continuous_update=False)\n",
    "                                       )   "
   ]
  },
  {
   "cell_type": "markdown",
   "id": "ca68020d",
   "metadata": {},
   "source": [
    "## write final image to file"
   ]
  },
  {
   "cell_type": "code",
   "execution_count": 23,
   "id": "4ad6f932",
   "metadata": {},
   "outputs": [],
   "source": [
    "if georef:\n",
    "    driver = gdal.GetDriverByName(\"GTiff\")\n",
    "    outdata = driver.Create(outfile, dataset.RasterXSize, dataset.RasterYSize, 1, gdal.GDT_Float32)\n",
    "    outdata.SetGeoTransform(dataset.GetGeoTransform())\n",
    "    outdata.SetProjection(dataset.GetProjection())\n",
    "    outdata.GetRasterBand(1).WriteArray(MASTER)\n",
    "    outdata.FlushCache() \n",
    "else:\n",
    "    cv2.imwrite(outfile, MASTER)"
   ]
  },
  {
   "cell_type": "code",
   "execution_count": null,
   "id": "1cce4fc2",
   "metadata": {},
   "outputs": [],
   "source": [
    "outdata = None\n",
    "band = None\n",
    "dataset = None"
   ]
  }
 ],
 "metadata": {
  "kernelspec": {
   "display_name": "Python 3 (ipykernel)",
   "language": "python",
   "name": "python3"
  },
  "language_info": {
   "codemirror_mode": {
    "name": "ipython",
    "version": 3
   },
   "file_extension": ".py",
   "mimetype": "text/x-python",
   "name": "python",
   "nbconvert_exporter": "python",
   "pygments_lexer": "ipython3",
   "version": "3.9.7"
  }
 },
 "nbformat": 4,
 "nbformat_minor": 5
}
