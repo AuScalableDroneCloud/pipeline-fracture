{
 "cells": [
  {
   "cell_type": "markdown",
   "id": "837eb3d9",
   "metadata": {},
   "source": [
    "# Ridge detection with OpenCV"
   ]
  },
  {
   "cell_type": "code",
   "execution_count": 2,
   "id": "2f397e17",
   "metadata": {},
   "outputs": [],
   "source": [
    "import os\n",
    "import cv2\n",
    "import numpy as np\n",
    "from osgeo import gdal\n",
    "import ipywidgets as widgets\n",
    "from IPython.display import display\n",
    "from matplotlib import pyplot as plt\n",
    "%matplotlib inline"
   ]
  },
  {
   "cell_type": "markdown",
   "id": "a28b5157",
   "metadata": {},
   "source": [
    "## read reoreferencing information if availabe"
   ]
  },
  {
   "cell_type": "code",
   "execution_count": 1,
   "id": "99f4e528",
   "metadata": {},
   "outputs": [
    {
     "ename": "NameError",
     "evalue": "name 'gdal' is not defined",
     "output_type": "error",
     "traceback": [
      "\u001b[1;31m---------------------------------------------------------------------------\u001b[0m",
      "\u001b[1;31mNameError\u001b[0m                                 Traceback (most recent call last)",
      "\u001b[1;32m~\\AppData\\Local\\Temp/ipykernel_22900/3991571164.py\u001b[0m in \u001b[0;36m<module>\u001b[1;34m\u001b[0m\n\u001b[0;32m      4\u001b[0m \u001b[0moutfile\u001b[0m \u001b[1;33m=\u001b[0m \u001b[1;34m'Test_ref_cv.tif'\u001b[0m\u001b[1;33m\u001b[0m\u001b[1;33m\u001b[0m\u001b[0m\n\u001b[0;32m      5\u001b[0m \u001b[1;33m\u001b[0m\u001b[0m\n\u001b[1;32m----> 6\u001b[1;33m \u001b[0mdataset\u001b[0m \u001b[1;33m=\u001b[0m \u001b[0mgdal\u001b[0m\u001b[1;33m.\u001b[0m\u001b[0mOpen\u001b[0m\u001b[1;33m(\u001b[0m\u001b[0mfilename\u001b[0m\u001b[1;33m,\u001b[0m \u001b[0mgdal\u001b[0m\u001b[1;33m.\u001b[0m\u001b[0mGA_ReadOnly\u001b[0m\u001b[1;33m)\u001b[0m\u001b[1;33m\u001b[0m\u001b[1;33m\u001b[0m\u001b[0m\n\u001b[0m\u001b[0;32m      7\u001b[0m \u001b[1;32mif\u001b[0m \u001b[0mdataset\u001b[0m\u001b[1;33m:\u001b[0m\u001b[1;33m\u001b[0m\u001b[1;33m\u001b[0m\u001b[0m\n\u001b[0;32m      8\u001b[0m     print(\"Driver: {}/{}\".format(dataset.GetDriver().ShortName,\n",
      "\u001b[1;31mNameError\u001b[0m: name 'gdal' is not defined"
     ]
    }
   ],
   "source": [
    "georef = False\n",
    "filename = 'img/gawler_mag_rtp.tif'\n",
    "#filename = 'img/Ortho_3_061.png'\n",
    "outfile = 'Test_ref_cv.tif'\n",
    "\n",
    "dataset = gdal.Open(filename, gdal.GA_ReadOnly)\n",
    "if dataset:\n",
    "    print(\"Driver: {}/{}\".format(dataset.GetDriver().ShortName,\n",
    "                                dataset.GetDriver().LongName))\n",
    "    print(\"Size is {} x {} x {}\".format(dataset.RasterXSize,\n",
    "                                        dataset.RasterYSize,\n",
    "                                        dataset.RasterCount))\n",
    "    if dataset.GetProjection():\n",
    "        print(\"Projection is: {}\".format(dataset.GetProjection()))\n",
    "        geotransform = dataset.GetGeoTransform()\n",
    "        georef = True\n",
    "        if geotransform:\n",
    "            print(\"Geotransform:\" ,geotransform)\n",
    "            print(\"Origin = ({}, {})\".format(geotransform[0], geotransform[3]))\n",
    "            print(\"Pixel Size = ({}, {})\".format(geotransform[1], geotransform[5]))\n",
    "            \n",
    "            gray = np.array(dataset.GetRasterBand(1).ReadAsArray())\n",
    "    else:\n",
    "        image = cv2.imread(filename)    \n",
    "        gray  = cv2.cvtColor(image, cv2.COLOR_RGB2GRAY)\n",
    "    \n",
    "MASTER = np.zeros(gray.shape, np.double)"
   ]
  },
  {
   "cell_type": "markdown",
   "id": "d14b8e43",
   "metadata": {},
   "source": [
    "## Operations: ridge detection (sobel) -> thinning -> normalizing"
   ]
  },
  {
   "cell_type": "code",
   "execution_count": 2,
   "id": "12323720",
   "metadata": {},
   "outputs": [
    {
     "ename": "NameError",
     "evalue": "name 'widgets' is not defined",
     "output_type": "error",
     "traceback": [
      "\u001b[1;31m---------------------------------------------------------------------------\u001b[0m",
      "\u001b[1;31mNameError\u001b[0m                                 Traceback (most recent call last)",
      "\u001b[1;32m~\\AppData\\Local\\Temp/ipykernel_22900/797552469.py\u001b[0m in \u001b[0;36m<module>\u001b[1;34m\u001b[0m\n\u001b[0;32m     24\u001b[0m \u001b[1;33m\u001b[0m\u001b[0m\n\u001b[0;32m     25\u001b[0m \u001b[0mstyle\u001b[0m \u001b[1;33m=\u001b[0m \u001b[1;33m{\u001b[0m\u001b[1;34m'description_width'\u001b[0m\u001b[1;33m:\u001b[0m \u001b[1;34m'initial'\u001b[0m\u001b[1;33m}\u001b[0m\u001b[1;33m\u001b[0m\u001b[1;33m\u001b[0m\u001b[0m\n\u001b[1;32m---> 26\u001b[1;33m widgets.interactive(InteracRidges, ddepth = widgets.Dropdown(options=['CV_32FC1','CV_64FC1','CV_16SC1'], value='CV_32FC1'),\n\u001b[0m\u001b[0;32m     27\u001b[0m                     \u001b[0mborderType\u001b[0m \u001b[1;33m=\u001b[0m \u001b[0mwidgets\u001b[0m\u001b[1;33m.\u001b[0m\u001b[0mDropdown\u001b[0m\u001b[1;33m(\u001b[0m\u001b[0moptions\u001b[0m\u001b[1;33m=\u001b[0m\u001b[1;33m[\u001b[0m\u001b[1;34m'BORDER_CONSTANT'\u001b[0m\u001b[1;33m,\u001b[0m\u001b[1;34m'BORDER_REPLICATE'\u001b[0m\u001b[1;33m,\u001b[0m\u001b[1;34m'BORDER_REFLECT'\u001b[0m\u001b[1;33m,\u001b[0m \u001b[1;34m'BORDER_WRAP'\u001b[0m\u001b[1;33m,\u001b[0m\u001b[1;34m'BORDER_DEFAULT'\u001b[0m\u001b[1;33m]\u001b[0m\u001b[1;33m,\u001b[0m \u001b[0mvalue\u001b[0m\u001b[1;33m=\u001b[0m\u001b[1;34m'BORDER_DEFAULT'\u001b[0m\u001b[1;33m)\u001b[0m\u001b[1;33m,\u001b[0m\u001b[1;33m\u001b[0m\u001b[1;33m\u001b[0m\u001b[0m\n\u001b[0;32m     28\u001b[0m                     \u001b[0mdx\u001b[0m \u001b[1;33m=\u001b[0m \u001b[1;33m(\u001b[0m\u001b[1;36m1\u001b[0m\u001b[1;33m,\u001b[0m\u001b[1;36m2\u001b[0m\u001b[1;33m,\u001b[0m\u001b[1;36m1\u001b[0m\u001b[1;33m)\u001b[0m\u001b[1;33m,\u001b[0m\u001b[1;33m\u001b[0m\u001b[1;33m\u001b[0m\u001b[0m\n",
      "\u001b[1;31mNameError\u001b[0m: name 'widgets' is not defined"
     ]
    }
   ],
   "source": [
    "def CVridge(img, ddepth = 'CV_32FC1', dx = 1, dy = 1, ksize = 1, scale = 1, delta = 0, thresh = 0, borderType = 'BORDER_DEFAULT'):\n",
    "     ridge_filter = cv2.ximgproc.RidgeDetectionFilter_create(\n",
    "                                                            dx = dx, \n",
    "                                                            dy = dy, \n",
    "                                                            ksize = ksize, \n",
    "                                                            scale = scale, \n",
    "                                                            delta = delta\n",
    "                                                            )\n",
    "     ridges = ridge_filter.getRidgeFilteredImage(img) \n",
    "     n = np.zeros(gray.shape, np.double)\n",
    "     normalized = cv2.normalize(ridges, n, 1.0, 0.0, cv2.NORM_MINMAX, dtype=cv2.CV_32F) \n",
    "     th, dst = cv2.threshold(normalized, thresh, 1, cv2.THRESH_BINARY);    \n",
    "     return(dst)\n",
    "  \n",
    "def InteracRidges(ddepth = 'CV_32FC1', borderType = '', dx = 1, dy = 1, ksize = 1, scale = 1, delta = 0, thresh = 0): \n",
    "    f, ax1 = plt.subplots(nrows=1,figsize=(25,25))\n",
    "    ridges = CVridge(gray, ddepth = ddepth, borderType = borderType, dx = dx, dy = dy, ksize = ksize, \n",
    "                     scale = scale, delta = delta, thresh = thresh)\n",
    "    ax1.imshow(ridges); \n",
    "    ax1.get_xaxis().set_visible(False)\n",
    "    ax1.axes.get_yaxis().set_visible(False)\n",
    "    x1, x2 = ridges.shape[:2] \n",
    "    MASTER[:x1, :x2] = ridges[:x1, :x2]\n",
    "\n",
    "widgets.interactive(InteracRidges, ddepth = widgets.Dropdown(options=['CV_32FC1','CV_64FC1','CV_16SC1'], value='CV_32FC1'),\n",
    "                    borderType = widgets.Dropdown(options=['BORDER_CONSTANT','BORDER_REPLICATE','BORDER_REFLECT', 'BORDER_WRAP','BORDER_DEFAULT'], value='BORDER_DEFAULT'),\n",
    "                    dx = (1,2,1), \n",
    "                    dy = (1,2,1), \n",
    "                    ksize=(1,7,2), \n",
    "                    scale = (0,10,0.01), \n",
    "                    delta = (0,1,0.1), \n",
    "                    thresh = (0,1,0.01)\n",
    "                    )"
   ]
  },
  {
   "cell_type": "markdown",
   "id": "05a87f41",
   "metadata": {},
   "source": [
    "## write final image to file"
   ]
  },
  {
   "cell_type": "code",
   "execution_count": 55,
   "id": "826c4b00",
   "metadata": {},
   "outputs": [],
   "source": [
    "if georef:\n",
    "    driver = gdal.GetDriverByName(\"GTiff\")\n",
    "    outdata = driver.Create(outfile, dataset.RasterXSize, dataset.RasterYSize, 1, gdal.GDT_Float32)\n",
    "    outdata.SetGeoTransform(dataset.GetGeoTransform())\n",
    "    outdata.SetProjection(dataset.GetProjection())\n",
    "    outdata.GetRasterBand(1).WriteArray(MASTER)\n",
    "    outdata.FlushCache() \n",
    "else:\n",
    "    cv2.imwrite(outfile, MASTER)\n",
    "    "
   ]
  },
  {
   "cell_type": "code",
   "execution_count": 56,
   "id": "c497c0ac",
   "metadata": {},
   "outputs": [],
   "source": [
    "outdata = None\n",
    "band = None\n",
    "dataset = None"
   ]
  },
  {
   "cell_type": "code",
   "execution_count": null,
   "id": "ebc8ae81",
   "metadata": {},
   "outputs": [],
   "source": []
  }
 ],
 "metadata": {
  "kernelspec": {
   "display_name": "Python 3 (ipykernel)",
   "language": "python",
   "name": "python3"
  },
  "language_info": {
   "codemirror_mode": {
    "name": "ipython",
    "version": 3
   },
   "file_extension": ".py",
   "mimetype": "text/x-python",
   "name": "python",
   "nbconvert_exporter": "python",
   "pygments_lexer": "ipython3",
   "version": "3.9.7"
  }
 },
 "nbformat": 4,
 "nbformat_minor": 5
}
