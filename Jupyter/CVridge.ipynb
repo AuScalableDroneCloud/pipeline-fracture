{
 "cells": [
  {
   "cell_type": "markdown",
   "id": "837eb3d9",
   "metadata": {},
   "source": [
    "# Ridge detection with OpenCV"
   ]
  },
  {
   "cell_type": "code",
   "execution_count": 2,
   "id": "2f397e17",
   "metadata": {},
   "outputs": [],
   "source": [
    "import os\n",
    "import cv2\n",
    "import numpy as np\n",
    "from osgeo import gdal\n",
    "import ipywidgets as widgets\n",
    "from IPython.display import display\n",
    "from matplotlib import pyplot as plt\n",
    "%matplotlib inline"
   ]
  },
  {
   "cell_type": "markdown",
   "id": "a28b5157",
   "metadata": {},
   "source": [
    "## read reoreferencing information if availabe"
   ]
  },
  {
   "cell_type": "code",
   "execution_count": 3,
   "id": "99f4e528",
   "metadata": {},
   "outputs": [
    {
     "name": "stdout",
     "output_type": "stream",
     "text": [
      "Driver: GTiff/GeoTIFF\n",
      "Size is 3746 x 3766 x 1\n",
      "Projection is: GEOGCS[\"GEOCENTRIC DATUM of AUSTRALIA\",DATUM[\"GDA94\",SPHEROID[\"GRS80\",6378137,298.257222101]],PRIMEM[\"Greenwich\",0],UNIT[\"degree\",0.0174532925199433,AUTHORITY[\"EPSG\",\"9122\"]],AXIS[\"Latitude\",NORTH],AXIS[\"Longitude\",EAST]]\n",
      "Geotransform: (133.4573055, 0.000417000000000001, 0.0, -29.9658285, 0.0, -0.00041700000000000016)\n",
      "Origin = (133.4573055, -29.9658285)\n",
      "Pixel Size = (0.000417000000000001, -0.00041700000000000016)\n"
     ]
    }
   ],
   "source": [
    "georef = False\n",
    "filename = 'img/gawler_mag_rtp.tif'\n",
    "#filename = 'img/Ortho_3_061.png'\n",
    "outfile = 'Test_ref_cv.tif'\n",
    "\n",
    "dataset = gdal.Open(filename, gdal.GA_ReadOnly)\n",
    "if dataset:\n",
    "    print(\"Driver: {}/{}\".format(dataset.GetDriver().ShortName,\n",
    "                                dataset.GetDriver().LongName))\n",
    "    print(\"Size is {} x {} x {}\".format(dataset.RasterXSize,\n",
    "                                        dataset.RasterYSize,\n",
    "                                        dataset.RasterCount))\n",
    "    if dataset.GetProjection():\n",
    "        print(\"Projection is: {}\".format(dataset.GetProjection()))\n",
    "        geotransform = dataset.GetGeoTransform()\n",
    "        georef = True\n",
    "        if geotransform:\n",
    "            print(\"Geotransform:\" ,geotransform)\n",
    "            print(\"Origin = ({}, {})\".format(geotransform[0], geotransform[3]))\n",
    "            print(\"Pixel Size = ({}, {})\".format(geotransform[1], geotransform[5]))\n",
    "            \n",
    "            gray = np.array(dataset.GetRasterBand(1).ReadAsArray())\n",
    "    else:\n",
    "        image = cv2.imread(filename)    \n",
    "        gray  = cv2.cvtColor(image, cv2.COLOR_RGB2GRAY)\n",
    "    \n",
    "MASTER = np.zeros(gray.shape, np.double)"
   ]
  },
  {
   "cell_type": "markdown",
   "id": "d14b8e43",
   "metadata": {},
   "source": [
    "## Operations: ridge detection (sobel) -> thinning -> normalizing"
   ]
  },
  {
   "cell_type": "code",
   "execution_count": 4,
   "id": "12323720",
   "metadata": {},
   "outputs": [
    {
     "data": {
      "application/vnd.jupyter.widget-view+json": {
       "model_id": "eebdc68007ae41b09f2626f42d1964eb",
       "version_major": 2,
       "version_minor": 0
      },
      "text/plain": [
       "interactive(children=(Dropdown(description='ddepth', options=('CV_32FC1', 'CV_64FC1', 'CV_16SC1'), value='CV_3…"
      ]
     },
     "metadata": {},
     "output_type": "display_data"
    }
   ],
   "source": [
    "def CVridge(img, ddepth = 'CV_32FC1', dx = 1, dy = 1, ksize = 1, scale = 1, delta = 0, thresh = 0, borderType = 'BORDER_DEFAULT'):\n",
    "     ridge_filter = cv2.ximgproc.RidgeDetectionFilter_create(\n",
    "                                                            dx = dx, \n",
    "                                                            dy = dy, \n",
    "                                                            ksize = ksize, \n",
    "                                                            scale = scale, \n",
    "                                                            delta = delta\n",
    "                                                            )\n",
    "     ridges = ridge_filter.getRidgeFilteredImage(img) \n",
    "     n = np.zeros(gray.shape, np.double)\n",
    "     normalized = cv2.normalize(ridges, n, 1.0, 0.0, cv2.NORM_MINMAX, dtype=cv2.CV_32F) \n",
    "     th, dst = cv2.threshold(normalized, thresh, 1, cv2.THRESH_BINARY);    \n",
    "     return(dst)\n",
    "  \n",
    "def InteracRidges(ddepth = 'CV_32FC1', borderType = '', dx = 1, dy = 1, ksize = 1, scale = 1, delta = 0, thresh = 0): \n",
    "    f, ax1 = plt.subplots(nrows=1,figsize=(25,25))\n",
    "    ridges = CVridge(gray, ddepth = ddepth, borderType = borderType, dx = dx, dy = dy, ksize = ksize, \n",
    "                     scale = scale, delta = delta, thresh = thresh)\n",
    "    ax1.imshow(ridges); \n",
    "    ax1.get_xaxis().set_visible(False)\n",
    "    ax1.axes.get_yaxis().set_visible(False)\n",
    "    x1, x2 = ridges.shape[:2] \n",
    "    MASTER[:x1, :x2] = ridges[:x1, :x2]\n",
    "    \n",
    "widgets.interactive(InteracRidges, ddepth = widgets.Dropdown(options=['CV_32FC1','CV_64FC1','CV_16SC1'], value='CV_32FC1'),\n",
    "                    borderType = widgets.Dropdown(options=['BORDER_CONSTANT','BORDER_REPLICATE','BORDER_REFLECT', 'BORDER_WRAP','BORDER_DEFAULT'], value='BORDER_DEFAULT'),\n",
    "                    dx = (1,2,1), \n",
    "                    dy = (1,2,1), \n",
    "                    ksize=(1,7,2), \n",
    "                    scale = (0,10,0.01), \n",
    "                    delta = (0,1,0.1), \n",
    "                    thresh = (0,1,0.01)\n",
    "                    )"
   ]
  },
  {
   "cell_type": "markdown",
   "id": "05a87f41",
   "metadata": {},
   "source": [
    "## write final image to file"
   ]
  },
  {
   "cell_type": "code",
   "execution_count": 55,
   "id": "826c4b00",
   "metadata": {},
   "outputs": [],
   "source": [
    "if georef:\n",
    "    driver = gdal.GetDriverByName(\"GTiff\")\n",
    "    outdata = driver.Create(outfile, dataset.RasterXSize, dataset.RasterYSize, 1, gdal.GDT_Float32)\n",
    "    outdata.SetGeoTransform(dataset.GetGeoTransform())\n",
    "    outdata.SetProjection(dataset.GetProjection())\n",
    "    outdata.GetRasterBand(1).WriteArray(MASTER)\n",
    "    outdata.FlushCache() \n",
    "else:\n",
    "    cv2.imwrite(outfile, MASTER)\n",
    "    "
   ]
  },
  {
   "cell_type": "code",
   "execution_count": 56,
   "id": "c497c0ac",
   "metadata": {},
   "outputs": [],
   "source": [
    "outdata = None\n",
    "band = None\n",
    "dataset = None"
   ]
  },
  {
   "cell_type": "code",
   "execution_count": null,
   "id": "ebc8ae81",
   "metadata": {},
   "outputs": [],
   "source": []
  }
 ],
 "metadata": {
  "kernelspec": {
   "display_name": "Python 3 (ipykernel)",
   "language": "python",
   "name": "python3"
  },
  "language_info": {
   "codemirror_mode": {
    "name": "ipython",
    "version": 3
   },
   "file_extension": ".py",
   "mimetype": "text/x-python",
   "name": "python",
   "nbconvert_exporter": "python",
   "pygments_lexer": "ipython3",
   "version": "3.9.7"
  }
 },
 "nbformat": 4,
 "nbformat_minor": 5
}
