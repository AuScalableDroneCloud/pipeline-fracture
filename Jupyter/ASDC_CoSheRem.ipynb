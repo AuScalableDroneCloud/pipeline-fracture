{
 "cells": [
  {
   "attachments": {
    "logo-2.png": {
     "image/png": "[encoded data removed]"
    }
   },
   "cell_type": "markdown",
   "id": "b0943673",
   "metadata": {},
   "source": [
    "![logo-2.png](attachment:logo-2.png)\n",
    "\n",
    "## <center>Structural Geology Use Case</center>\n",
    "\n",
    "Workflow for fracture detection with Complex Shearlet Transform based on: \n",
    "https://github.com/rahulprabhakaran/Automatic-Fracture-Detection-Code\n",
    "\n",
    "Using the Python port of the Matlab Toolbox Complex Shearlet-Based Ridge and Edge Measurement by Rafael Reisenhofer: https://github.com/rgcda/PyCoShREM\n",
    "\n",
    "This sosftware is distributed under the GNU General Public Licence version 3 (GPLv3) with CSIRO Disclaimer.\n",
    "Please see license file for full restrictions.\n",
    "\n",
    "(c) CSIRO 2022 \n",
    "\n",
    "Author: Ulrich Kelka"
   ]
  },
  {
   "cell_type": "code",
   "execution_count": null,
   "id": "45fff628-f1fb-47fb-9d74-3489ca38563d",
   "metadata": {},
   "outputs": [],
   "source": [
    "import asdc\n",
    "await asdc.connect()\n",
    "asdc.task_select()\n",
    "from ipywidgets import widgets"
   ]
  },
  {
   "cell_type": "code",
   "execution_count": null,
   "id": "d9ff2862-0bd5-4846-933d-d2f2a42b0a10",
   "metadata": {},
   "outputs": [],
   "source": [
    "project_id, task_id = asdc.get_selection()"
   ]
  },
  {
   "cell_type": "code",
   "execution_count": null,
   "id": "f62d31a0-a7e1-4e82-b907-355f72076272",
   "metadata": {},
   "outputs": [],
   "source": [
    "fn = asdc.download_asset('orthophoto.tif', dest=f\"orthophoto_{task_id}.tif\")\n",
    "print(fn)"
   ]
  },
  {
   "cell_type": "code",
   "execution_count": null,
   "id": "85f56021",
   "metadata": {},
   "outputs": [],
   "source": [
    "import os\n",
    "import sys\n",
    "#import asdc\n",
    "sys.path.append('src')\n",
    "import metadata as md\n",
    "from processing import *\n",
    "from tools import *"
   ]
  },
  {
   "cell_type": "code",
   "execution_count": null,
   "id": "b4e22c63",
   "metadata": {},
   "outputs": [],
   "source": [
    "#Tools.FILE = ['test/Ortho_3_061.png']\n",
    "Tools.FILE = [fn] #Use the downloaded orthophoto"
   ]
  },
  {
   "cell_type": "code",
   "execution_count": null,
   "id": "b03d015f",
   "metadata": {},
   "outputs": [],
   "source": [
    "Tools.Prepare4Processing(Tools)"
   ]
  },
  {
   "cell_type": "code",
   "execution_count": null,
   "id": "4926640c",
   "metadata": {},
   "outputs": [],
   "source": [
    "hist, proc_hist = PrepareImages(Tools)  \n",
    "Tools.PlotPreparedImg(Tools, hist, proc_hist)"
   ]
  },
  {
   "cell_type": "code",
   "execution_count": null,
   "id": "ee616c97-e5fc-4462-a0be-bd0df284d978",
   "metadata": {},
   "outputs": [],
   "source": [
    "Tools.SelectEnhancement(Tools)"
   ]
  },
  {
   "cell_type": "code",
   "execution_count": null,
   "id": "d486888f",
   "metadata": {},
   "outputs": [],
   "source": [
    "ReadImage(Tools)\n",
    "Tools.ShowImage(Tools.DATA2)  "
   ]
  },
  {
   "cell_type": "code",
   "execution_count": null,
   "id": "d270359a",
   "metadata": {},
   "outputs": [],
   "source": [
    "Tools.TileImage(Tools)"
   ]
  },
  {
   "cell_type": "markdown",
   "id": "3b318b97",
   "metadata": {},
   "source": [
    "# Select System Parameters\n",
    "Taken from 'The CoShREM Toolbox Parameter Guide' by Rafael Reisenhofer.\\\n",
    "http://www.math.uni-bremen.de/cda/software/CoShREM_Parameter_Guide.pdf\n",
    "\n",
    "### waveletEffSupp\n",
    "\n",
    "Length of the effective support in pixels of the Mexican hat wavelet ψ used in the construction the generating shearlet ψgen(x, y) = ψ(x)φ(y), where φ is a Gaussian. The effective support is the interval on which the values of ψ significantly differ from 0. It is, however, not a strictly defined property. A good choice for this parameter is often 1/8 of the image width. If the edges/ridges in the processed image are visible on a large scale, this value should be large relative to the width and height of the processed image.\n",
    "\n",
    "### gaussianEffSupp\n",
    "Length of the effective support in pixels of the Gaussian φ used in the construction of the generating shearlet ψgen(x, y) = ψ(x)φ(y), where ψ is a Mexican hat wavelet. Typically, this value is chosen to be roughly the half of waveletEffSupp. However, if the edges/ridges in the processed image consist of smooth curves, it can be chosen larger.\n",
    "\n",
    "### scalesPerOctave\n",
    "Determines the number of intermediate scales for each octave. If scalesPerOctave is set to n, for each orientation, there will be n differently scaled shearlets within one octave.\n",
    "\n",
    "### shearLevel (orientations)\n",
    "Determines the number of differently oriented shearlets on each scale. If shearLevel is set to n, there will be 2n + 2 differently sheared shearlets on each scale, completing a 180◦ semi-circle.\n",
    "\n",
    "### alpha (orientations)\n",
    "This parameter can take any value between 0 and 1 and governs the degree of anisotropy introduced via scaling. Roughly speaking, it determines how much the Gaussian is squeezed relative to the wavelet, when scaling the generating shearlet. Formally, the n-th octave is defined by ψn(x, y) = ψgen(2nx, 2αny). For alpha = 0, the degree of anisotropy is maximized while for alpha = 1, both directions are treated the same.\n",
    "\n",
    "### octaves\n",
    "The number of octaves spanned by the shearlet system. When scales- PerOctave is greater than 1, this parameter can also take non-integer values."
   ]
  },
  {
   "cell_type": "code",
   "execution_count": null,
   "id": "3c21f04e",
   "metadata": {},
   "outputs": [],
   "source": [
    "Tools.SystemCombinations(Tools)"
   ]
  },
  {
   "cell_type": "code",
   "execution_count": null,
   "id": "a74dc621",
   "metadata": {},
   "outputs": [],
   "source": [
    "GenerateSystems(Tools)                        "
   ]
  },
  {
   "cell_type": "markdown",
   "id": "357c2e4d",
   "metadata": {},
   "source": [
    "# Detection Parameters\n",
    "\n",
    "### minContrast\n",
    "Specifies the minimal contrast for an edge/ridge to be detected.\n",
    "\n",
    "### offset\n",
    "This parameter defines a scaling offset between the even- and odd- symmetric shearlets measured in octaves. If offset = x, the first even-symmetric shearlet used for the computation of the complex shearlet-based edge measure is already x octaves above the first odd- symmetric shearlet considered. In the case of the ridge measure, the converse is true.\n",
    "\n",
    "### scalesUsedForPivotSearch\n",
    "This parameter defines which scales of the shearlet system are considered for determining the orientation for which the complex shearlet-based edge/ridge measure is computed at a specific location. It can take the values ’all’, ’highest’, ’lowest’ and any subset B ⊂ {1, . . . , scalesPerOctave·octaves}."
   ]
  },
  {
   "cell_type": "code",
   "execution_count": null,
   "id": "d9a877ef",
   "metadata": {},
   "outputs": [],
   "source": [
    "Tools.DetectionCombinations(Tools)"
   ]
  },
  {
   "cell_type": "code",
   "execution_count": null,
   "id": "658f62c6",
   "metadata": {},
   "outputs": [],
   "source": [
    "DetectFeatures(Tools)"
   ]
  },
  {
   "cell_type": "code",
   "execution_count": null,
   "id": "efa9cf9e",
   "metadata": {},
   "outputs": [],
   "source": [
    "Tools.MosaicTiles(Tools)"
   ]
  },
  {
   "cell_type": "code",
   "execution_count": null,
   "id": "02c334ae",
   "metadata": {},
   "outputs": [],
   "source": [
    "Tools.ShowOverlay(Tools)"
   ]
  },
  {
   "cell_type": "code",
   "execution_count": null,
   "id": "a9dd0170",
   "metadata": {},
   "outputs": [],
   "source": [
    "Tools.SelectFilename(Tools, 'tif')"
   ]
  },
  {
   "cell_type": "code",
   "execution_count": null,
   "id": "5c239b43",
   "metadata": {},
   "outputs": [],
   "source": [
    "Tools.WriteImage(Tools, Tools.FEATURES, Tools.GEOTIF)"
   ]
  },
  {
   "cell_type": "markdown",
   "id": "25151db7",
   "metadata": {},
   "source": [
    "# Clean feature ensemble\n",
    "\n",
    "### min pixel value\n",
    "The minimum pixel value in the normalized feature ensemble. \n",
    "\n",
    "### kernel size\n",
    "The size of the kernel used for morhological operations (closing, opening, erosion). \n",
    "\n",
    "### min cluster size\n",
    "The minimum size of pixel clusters to keep in the image. "
   ]
  },
  {
   "cell_type": "code",
   "execution_count": null,
   "id": "7a3a3d13",
   "metadata": {},
   "outputs": [],
   "source": [
    "Tools.Enhancement(Tools)"
   ]
  },
  {
   "cell_type": "code",
   "execution_count": null,
   "id": "e4e215ef",
   "metadata": {},
   "outputs": [],
   "source": [
    "EnhanceEnsemble(Tools)\n",
    "Tools.ShowCompare(Tools)"
   ]
  },
  {
   "cell_type": "markdown",
   "id": "40257f6f-acc9-46e0-98e5-b3193ce7c971",
   "metadata": {},
   "source": [
    "## Vectorize ensemble map\n",
    "We use sknw.py to build a network from the skeleton.\n",
    "The pyhton package used is: https://github.com/Image-Py/sknw\n",
    "\n",
    "It is distributed under BSD 3-Clause License\n",
    "\n",
    "Copyright (c) 2017, Yan xiaolong"
   ]
  },
  {
   "cell_type": "code",
   "execution_count": null,
   "id": "7b1ce2ad",
   "metadata": {},
   "outputs": [],
   "source": [
    "Tools.SelectFilename(Tools, 'shp')"
   ]
  },
  {
   "cell_type": "code",
   "execution_count": null,
   "id": "a1f96304-c87e-4575-b779-2b68f4a1a180",
   "metadata": {},
   "outputs": [],
   "source": [
    "Tools.SHP = BuildSHP(Tools.E_FEATURES, Tools.SHP, 100)"
   ]
  },
  {
   "cell_type": "markdown",
   "id": "08faa314",
   "metadata": {},
   "source": [
    "# Metadata\n",
    "Publish processed images and associated metadata to CSIRO DAP(test)."
   ]
  },
  {
   "cell_type": "code",
   "execution_count": null,
   "id": "6a10bdb6",
   "metadata": {},
   "outputs": [],
   "source": [
    "Tools.GetCredential(Tools)"
   ]
  },
  {
   "cell_type": "code",
   "execution_count": null,
   "id": "842f816f",
   "metadata": {},
   "outputs": [],
   "source": [
    "md.WriteCollection(Tools)"
   ]
  },
  {
   "cell_type": "markdown",
   "id": "36bfc1ad-4d31-438b-b83a-5e1f801e139b",
   "metadata": {},
   "source": [
    "# Save Assets\n",
    "Save assets to WebODM"
   ]
  },
  {
   "cell_type": "code",
   "execution_count": null,
   "id": "cf82c46f-c020-4f5c-8fac-55b92187eb2c",
   "metadata": {},
   "outputs": [],
   "source": [
    "#Upload example\n",
    "task_id = asdc.new_task(\"Processed orthophoto\")\n",
    "if os.path.isfile(Tools.GEOTIF):\n",
    "    r = asdc.upload_asset(Tools.GEOTIF, dest=\"odm_orthophoto/odm_orthophoto.png\", task=task_id)\n",
    "    print(r)\n",
    "else:\n",
    "    #Just upload the example to test this\n",
    "    r = asdc.upload_asset(\"test/Ortho_3_061.png\", dest=\"odm_orthophoto/odm_orthophoto.png\", task=task_id)    \n",
    "    print(r)\n",
    "\n",
    "if os.path.isfile(Tools.SHP):\n",
    "    r = asdc.upload_asset(Tools.SHP, dest=f\"shapefiles/{Tools.SHP}\", task=task_id)\n",
    "    print(r)"
   ]
  },
  {
   "cell_type": "code",
   "execution_count": null,
   "id": "3026b404-f63c-458b-b628-c6784ab3a6c7",
   "metadata": {},
   "outputs": [],
   "source": [
    "print(task_id)"
   ]
  },
  {
   "cell_type": "code",
   "execution_count": null,
   "id": "c3ce7230-3fa6-416d-a39e-7b0cbad4fc86",
   "metadata": {},
   "outputs": [],
   "source": []
  }
 ],
 "metadata": {
  "kernelspec": {
   "display_name": "Python 3 (ipykernel)",
   "language": "python",
   "name": "python3"
  },
  "language_info": {
   "codemirror_mode": {
    "name": "ipython",
    "version": 3
   },
   "file_extension": ".py",
   "mimetype": "text/x-python",
   "name": "python",
   "nbconvert_exporter": "python",
   "pygments_lexer": "ipython3",
   "version": "3.9.13"
  }
 },
 "nbformat": 4,
 "nbformat_minor": 5
}
