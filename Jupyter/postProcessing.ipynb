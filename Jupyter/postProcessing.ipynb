{
 "cells": [
  {
   "cell_type": "code",
   "execution_count": null,
   "id": "410aee62",
   "metadata": {},
   "outputs": [],
   "source": [
    "import sys\n",
    "import cv2\n",
    "import easygui\n",
    "import numpy as np\n",
    "sys.path.append('py_modules')\n",
    "import ipywidgets as widgets\n",
    "from IPython.display import display\n",
    "from matplotlib import pyplot as plt\n",
    "from processing import ReadImage, WriteImage\n",
    "from post_processing import Threshholding, CleanUp, build_sknw,  WritePoints2SHP, WritePolyline2SHP"
   ]
  },
  {
   "cell_type": "code",
   "execution_count": null,
   "id": "db049ed3",
   "metadata": {},
   "outputs": [],
   "source": [
    "filename  = easygui.fileopenbox(\"select binary image file\", \"postProcs\", filetypes= \"*.jpg\", multiple=False)\n",
    "image = ReadImage(filename)\n",
    "MASTER = np.zeros(image[0].shape, np.double)"
   ]
  },
  {
   "cell_type": "markdown",
   "id": "e7c2f359",
   "metadata": {},
   "source": [
    "## Threshholding"
   ]
  },
  {
   "cell_type": "code",
   "execution_count": null,
   "id": "a6f230ee",
   "metadata": {},
   "outputs": [],
   "source": [
    "def InteractThresh(thresh = 0.1, ksize = 5, alpha = 1.5):\n",
    "    thresh_img = Threshholding(image[0], thresh, ksize, alpha, 0)\n",
    "    \n",
    "    x1, x2 = thresh_img.shape[:2] \n",
    "    MASTER[:x1, :x2] = thresh_img[:x1, :x2]\n",
    "    \n",
    "    f, ax1 = plt.subplots(nrows=1,figsize=(25,25))      \n",
    "    ax1.imshow(MASTER, cmap=\"gray\"); \n",
    "    ax1.get_xaxis().set_visible(False)\n",
    "    ax1.axes.get_yaxis().set_visible(False)\n",
    "\n",
    "style = {'description_width': 'initial'}\n",
    "widgets.interactive(InteractThresh, thresh = widgets.FloatSlider(description='min pixel value',style=style, value=0.1 ,min=0, max=1, step=0.01,continuous_update=False, layout=widgets.Layout(width='50%')),\n",
    "                                   ksize = widgets.IntSlider(description='kernel size',style=style, value=3 ,min=1, max=100, step=2,continuous_update=False, layout=widgets.Layout(width='50%')),\n",
    "                                   alpha = widgets.FloatSlider(description='contrast',style=style, value=1.5, min=1, max=100, step=0.1,continuous_update=False, layout=widgets.Layout(width='50%'))\n",
    "                                   )   \n"
   ]
  },
  {
   "cell_type": "markdown",
   "id": "294f5ec4",
   "metadata": {},
   "source": [
    "## Clean\n"
   ]
  },
  {
   "cell_type": "code",
   "execution_count": null,
   "id": "68e4a659",
   "metadata": {},
   "outputs": [],
   "source": [
    "def InteractCleanup(connectivity = 8, min_size = 10):\n",
    "    clean_img = CleanUp(MASTER, connectivity, min_size)\n",
    "    \n",
    "    x1, x2 = clean_img.shape[:2] \n",
    "    MASTER[:x1, :x2] = clean_img[:x1, :x2]\n",
    "    \n",
    "    f, ax1 = plt.subplots(nrows=1,figsize=(25,25))      \n",
    "    ax1.imshow(MASTER, cmap=\"gray\"); \n",
    "    ax1.get_xaxis().set_visible(False)\n",
    "    ax1.axes.get_yaxis().set_visible(False)\n",
    "\n",
    "style = {'description_width': 'initial'}\n",
    "widgets.interactive(InteractCleanup,connectivity = widgets.IntSlider(description='connectivity',style=style, value=8 ,min=1, max=8, step=1,continuous_update=False, layout=widgets.Layout(width='50%')),\n",
    "                                   min_size = widgets.IntSlider(description='min cluster size',style=style, value=10 ,min=1, max=1000, step=1,continuous_update=False, layout=widgets.Layout(width='50%'))\n",
    "                                   )   "
   ]
  },
  {
   "cell_type": "markdown",
   "id": "5f7169d1",
   "metadata": {},
   "source": [
    "## Build graph and write shapefiles"
   ]
  },
  {
   "cell_type": "code",
   "execution_count": null,
   "id": "229180ae",
   "metadata": {},
   "outputs": [],
   "source": [
    "graph = build_sknw(MASTER, multi=False, iso=True, ring=True, full=True)\n",
    "WritePoints2SHP(graph, 'pt_test.shp', refWKT = None, tolerance=1e-3)\n",
    "WritePolyline2SHP(graph, 'line_test.shp', refWKT = None, tolerance=1e-3)"
   ]
  },
  {
   "cell_type": "code",
   "execution_count": null,
   "id": "a02221ba",
   "metadata": {},
   "outputs": [],
   "source": []
  }
 ],
 "metadata": {
  "kernelspec": {
   "display_name": "Python 3 (ipykernel)",
   "language": "python",
   "name": "python3"
  },
  "language_info": {
   "codemirror_mode": {
    "name": "ipython",
    "version": 3
   },
   "file_extension": ".py",
   "mimetype": "text/x-python",
   "name": "python",
   "nbconvert_exporter": "python",
   "pygments_lexer": "ipython3",
   "version": "3.9.7"
  }
 },
 "nbformat": 4,
 "nbformat_minor": 5
}
